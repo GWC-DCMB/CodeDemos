{
 "cells": [
  {
   "cell_type": "code",
   "execution_count": null,
   "metadata": {},
   "outputs": [],
   "source": [
    "import pandas as pd"
   ]
  },
  {
   "cell_type": "code",
   "execution_count": null,
   "metadata": {},
   "outputs": [],
   "source": [
    "# Example of if Statements\n",
    "\n",
    "weather = \"cold\"\n",
    "\n",
    "if weather == \"cold\":\n",
    "    print(\"Wear a jacket\")\n",
    "    print(\"Wear a beanie and scarf\")\n",
    "    print(\"Put on warm boots\")\n"
   ]
  },
  {
   "cell_type": "code",
   "execution_count": null,
   "metadata": {},
   "outputs": [],
   "source": [
    "# Example of if and else Statements\n",
    "\n",
    "weather = \"cold\"\n",
    "\n",
    "if weather == \"cold\":\n",
    "    print(\"Wear a jacket\")\n",
    "    print(\"Wear a beanie and scarf\")\n",
    "    print(\"Put on warm boots\")\n",
    "else:\n",
    "    print(\"Wear sandals\")\n",
    "    print(\"Wear a tank top\")\n",
    "    print(\"Bring a portable fan\")\n",
    "    "
   ]
  },
  {
   "cell_type": "code",
   "execution_count": null,
   "metadata": {},
   "outputs": [],
   "source": [
    "# Example of if, else if, and else Statements\n",
    "\n",
    "weather = \"cold\"\n",
    "\n",
    "if weather == \"cold\":\n",
    "    print(\"Wear a jacket, beanie, scarf, and warm boots\")\n",
    "elif weather == \"hot\":\n",
    "    print(\"Wear sandals, tank tops, and cap\")\n",
    "elif weather == \"rainy\":\n",
    "    print(\"Wear a rain jacket and rain boots\")\n",
    "    print(\"Bring an umbrella\")\n",
    "else: \n",
    "    print(\"No need for extra gear!\")\n"
   ]
  },
  {
   "cell_type": "code",
   "execution_count": null,
   "metadata": {},
   "outputs": [],
   "source": [
    "# Make dataset of statistics on students\n",
    "\n",
    "ID = [1,2,3,4,5,6]\n",
    "Hair = [\"Black\",\"Brown\",\"Blond\",\"Red\",\"Blond\",\"Brown\"]\n",
    "Eye = [\"Brown\",\"Brown\",\"Blue\",\"Blue\",\"Hazel\",\"Brown\"]\n",
    "Sex = [\"Male\",\"Male\",\"Male\",\"Female\",\"Female\",\"Female\"]\n",
    "Count = [32,53,30,7,5,63]\n",
    "\n",
    "student_stats = pd.DataFrame({\"ID\": ID,\n",
    "                              \"Hair\": Hair,\n",
    "                              \"Eye\": Eye,\n",
    "                              \"Sex\": Sex,\n",
    "                              \"Count\": Count})\n",
    "\n",
    "student_stats = student_stats.loc[:,[\"ID\",\"Hair\",\"Eye\",\"Sex\",\"Count\"]]\n",
    "student_stats\n"
   ]
  },
  {
   "cell_type": "code",
   "execution_count": null,
   "metadata": {},
   "outputs": [],
   "source": [
    "# Write the code to extract the column of “Eye”.\n",
    "\n",
    "student_stats[\"Eye\"]\n",
    "\n",
    "student_stats.loc[:,\"Eye\"]\n",
    "\n",
    "student_stats.iloc[:,2]"
   ]
  },
  {
   "cell_type": "code",
   "execution_count": null,
   "metadata": {},
   "outputs": [],
   "source": [
    "# Write the code to extract the row pertaining to Group ID 6. \n",
    "student_stats[\"ID\"][5]"
   ]
  },
  {
   "cell_type": "code",
   "execution_count": null,
   "metadata": {},
   "outputs": [],
   "source": [
    "# Write the code to filter the column of “Eye” to include the \n",
    "# Group IDs with only brown eyes and assign it to a variable \n",
    "# with a meaningful name. \n",
    "\n",
    "boolean_brown = student_stats.loc[:,\"Eye\"] == \"Brown\"\n",
    "\n",
    "#student_stats[boolean_brown]"
   ]
  },
  {
   "cell_type": "code",
   "execution_count": null,
   "metadata": {},
   "outputs": [],
   "source": [
    "# Write the code to filter the column of count to include \n",
    "# the Group IDs with more than 30 counts and assign it to \n",
    "# a variable with a meaningful name.\n"
   ]
  }
 ],
 "metadata": {
  "kernelspec": {
   "display_name": "Python 3",
   "language": "python",
   "name": "python3"
  },
  "language_info": {
   "codemirror_mode": {
    "name": "ipython",
    "version": 3
   },
   "file_extension": ".py",
   "mimetype": "text/x-python",
   "name": "python",
   "nbconvert_exporter": "python",
   "pygments_lexer": "ipython3",
   "version": "3.7.3"
  }
 },
 "nbformat": 4,
 "nbformat_minor": 4
}
