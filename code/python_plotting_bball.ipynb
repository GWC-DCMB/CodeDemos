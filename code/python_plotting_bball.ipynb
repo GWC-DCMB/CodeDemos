{
 "cells": [
  {
   "cell_type": "markdown",
   "metadata": {},
   "source": [
    "# Matplotlib and pandas "
   ]
  },
  {
   "cell_type": "code",
   "execution_count": null,
   "metadata": {},
   "outputs": [],
   "source": [
    "import pandas as pd\n",
    "#Let's read in a comma separated value (.csv) file from 538\n",
    "df=pd.read_csv(\"https://raw.githubusercontent.com/GWC-DCMB/codeDemos/master/data/historical-538-ncaa-tournament-model-results.csv\")\n",
    "#Let's look at the first 10 lines\n",
    "#I'm passing the data frame and the argument 10 to the pandas.DataFrame.head function\n",
    "pd.DataFrame.head(df,10)"
   ]
  },
  {
   "cell_type": "code",
   "execution_count": null,
   "metadata": {},
   "outputs": [],
   "source": [
    "#I can also call head as a method\n",
    "#Default is 5 lines\n",
    "df.head(3)"
   ]
  },
  {
   "cell_type": "code",
   "execution_count": null,
   "metadata": {},
   "outputs": [],
   "source": [
    "#Let's get some information about the data frame\n",
    "pd.DataFrame.info(df)"
   ]
  },
  {
   "cell_type": "code",
   "execution_count": null,
   "metadata": {},
   "outputs": [],
   "source": [
    "#We can look at a specific column\n",
    "#Note the method is loc, we are using [] instead of () \n",
    "#And we always have to think about [row,column]\n",
    "df.loc[:,'year']"
   ]
  },
  {
   "cell_type": "code",
   "execution_count": null,
   "metadata": {},
   "outputs": [],
   "source": [
    "#We can pull a specific row or series of rows\n",
    "df.loc[0:3]"
   ]
  },
  {
   "cell_type": "code",
   "execution_count": null,
   "metadata": {},
   "outputs": [],
   "source": [
    "#And we can do this for a specific column\n",
    "print(df.loc[0:3,\"year\"])"
   ]
  },
  {
   "cell_type": "code",
   "execution_count": null,
   "metadata": {},
   "outputs": [],
   "source": [
    "#Experiment with how df.iloc works. What is different?"
   ]
  },
  {
   "cell_type": "code",
   "execution_count": null,
   "metadata": {},
   "outputs": [],
   "source": [
    "#We can also perform conditional subsetting of a data frame \n",
    "#Let's subset based on favorite_win_flag value of 1\n",
    "#df['favorite_win_flag']==1\n",
    "df.loc[:,'favorite_win_flag']==1\n",
    "#This give us a pandas series of booleans"
   ]
  },
  {
   "cell_type": "code",
   "execution_count": null,
   "metadata": {},
   "outputs": [],
   "source": [
    "#We can achieve the same thing without loc \n",
    "df['favorite_win_flag']==1"
   ]
  },
  {
   "cell_type": "code",
   "execution_count": null,
   "metadata": {},
   "outputs": [],
   "source": [
    "#We can use the booleans to show only the lines that are True\n",
    "subset=df[df['favorite_win_flag']==1]\n",
    "subset.head()"
   ]
  },
  {
   "cell_type": "code",
   "execution_count": null,
   "metadata": {},
   "outputs": [],
   "source": [
    "#Let's look at the dimensions\n",
    "print(\"The total dataset has shape:\",df.shape)\n",
    "print(\"The conditionally subsetted dataset has shape:\",subset.shape)"
   ]
  },
  {
   "cell_type": "code",
   "execution_count": null,
   "metadata": {},
   "outputs": [],
   "source": [
    "#To make plots we need to use the matplotlib package\n",
    "import  matplotlib.pyplot as  plt\n",
    "\n",
    "#Let's compare the distribution of win probabilities for the favorite teams based on if the favorite won or not\n",
    "\n",
    "df.boxplot(column='favorite_probability',by='favorite_win_flag')\n"
   ]
  }
 ],
 "metadata": {
  "kernelspec": {
   "display_name": "Python 3",
   "language": "python",
   "name": "python3"
  },
  "language_info": {
   "codemirror_mode": {
    "name": "ipython",
    "version": 3
   },
   "file_extension": ".py",
   "mimetype": "text/x-python",
   "name": "python",
   "nbconvert_exporter": "python",
   "pygments_lexer": "ipython3",
   "version": "3.7.3"
  }
 },
 "nbformat": 4,
 "nbformat_minor": 4
}
