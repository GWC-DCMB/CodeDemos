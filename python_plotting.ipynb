{
 "cells": [
  {
   "cell_type": "markdown",
   "metadata": {},
   "source": [
    "# Graduate Society of Black Engineers and Scientists\n",
    "### March 20, 2019\n",
    "### Programming Workshop by Girls Who Code at UM DCMB\n",
    "#### Adapted from Software Carpentry Curriculum http://swcarpentry.github.io/python-novice-gapminder/"
   ]
  },
  {
   "cell_type": "markdown",
   "metadata": {},
   "source": [
    "#### Intro to Python and Jupyter Notebook\n",
    "Python is  an object oriented programming language which just means  we care more about the objects that we want to manipulate. There are several data types that an object can have. The basic data types  are integer, float, string, boolean. We assign values to the variable names in a left to right fashion. Jupyter notebook is letting us run and edit Python code. Learn more [here](https://jupyter-notebook.readthedocs.io/en/stable/examples/Notebook/Notebook%20Basics.html)"
   ]
  },
  {
   "cell_type": "code",
   "execution_count": 19,
   "metadata": {},
   "outputs": [],
   "source": [
    "#Data Types\n",
    "w=1 #integeer\n",
    "x=1.0 #float\n",
    "y=\"hello world\" #string\n",
    "z=True #boolean"
   ]
  },
  {
   "cell_type": "code",
   "execution_count": 20,
   "metadata": {
    "scrolled": false
   },
   "outputs": [
    {
     "name": "stdout",
     "output_type": "stream",
     "text": [
      "2\n"
     ]
    }
   ],
   "source": [
    "#The print function will print its argument to the screen\n",
    "#Python has lots of built in functions like print\n",
    "#You can also define your own functions when you learn more\n",
    "#Think of functions like f(x) in math class\n",
    "print(w+z)"
   ]
  },
  {
   "cell_type": "code",
   "execution_count": 21,
   "metadata": {},
   "outputs": [
    {
     "data": {
      "text/plain": [
       "2"
      ]
     },
     "execution_count": 21,
     "metadata": {},
     "output_type": "execute_result"
    }
   ],
   "source": [
    "#Running the notebook cell gives the evaluation of the last command\n",
    "w+z"
   ]
  },
  {
   "cell_type": "code",
   "execution_count": 22,
   "metadata": {},
   "outputs": [],
   "source": [
    "#If we define a variable as the last command, we do not see the output. \n",
    "#But the variable test now has a value which we can access later.\n",
    "test=w+z"
   ]
  },
  {
   "cell_type": "code",
   "execution_count": 23,
   "metadata": {},
   "outputs": [
    {
     "name": "stdout",
     "output_type": "stream",
     "text": [
      "2\n"
     ]
    }
   ],
   "source": [
    "print(test)"
   ]
  },
  {
   "cell_type": "code",
   "execution_count": 24,
   "metadata": {},
   "outputs": [],
   "source": [
    "#What happens if we add x and y?\n",
    "#How can we determine the data type of z?"
   ]
  },
  {
   "cell_type": "markdown",
   "metadata": {},
   "source": [
    "Data can be stored in containers. Common containers in  Python  are lists, numpy arrays, pandas data frames, dictionaries, and tuples."
   ]
  },
  {
   "cell_type": "code",
   "execution_count": 31,
   "metadata": {},
   "outputs": [
    {
     "name": "stdout",
     "output_type": "stream",
     "text": [
      "[1, 2, 3, 4]\n"
     ]
    },
    {
     "data": {
      "text/plain": [
       "1"
      ]
     },
     "execution_count": 31,
     "metadata": {},
     "output_type": "execute_result"
    }
   ],
   "source": [
    "#Each container has specific manipulations  we can perform\n",
    "my_list=[1,2,3]\n",
    "#We can use the list method of append to add a value to the end\n",
    "my_list.append(4)\n",
    "print(my_list)\n",
    "#We can slice a list to pull a value out\n",
    "my_list[0]\n",
    "#Python is 0-based so the 1st position is accessed  with 1"
   ]
  },
  {
   "cell_type": "code",
   "execution_count": 32,
   "metadata": {},
   "outputs": [
    {
     "name": "stdout",
     "output_type": "stream",
     "text": [
      "Bioinformatics\n"
     ]
    },
    {
     "data": {
      "text/plain": [
       "dict_keys(['Brooke', 'Sierra', 'Allie'])"
      ]
     },
     "execution_count": 32,
     "metadata": {},
     "output_type": "execute_result"
    }
   ],
   "source": [
    "#Dictionaries help us keep track of key and value pairs\n",
    "my_dict={\"Brooke\":\"Bioinformatics\",\"Sierra\":\"MIP\",\"Allie\":\"Pharmacology\"}\n",
    "#We can  pull out a value if we know the key\n",
    "print(my_dict[\"Brooke\"])\n",
    "#We can alsolook up all the keys with a method\n",
    "my_dict.keys()"
   ]
  },
  {
   "cell_type": "code",
   "execution_count": 37,
   "metadata": {},
   "outputs": [
    {
     "name": "stdout",
     "output_type": "stream",
     "text": [
      "[1, 2, 3]\n"
     ]
    }
   ],
   "source": [
    "#To  use  numpy arrays and pandas data frames we need to import packages\n",
    "#Packages are tidy ways of organizing special functionalities\n",
    "import numpy as  np\n",
    "my_arr=np.array=[1,2,3]\n",
    "print(my_arr)"
   ]
  },
  {
   "cell_type": "code",
   "execution_count": 2,
   "metadata": {},
   "outputs": [
    {
     "data": {
      "text/html": [
       "<div>\n",
       "<style scoped>\n",
       "    .dataframe tbody tr th:only-of-type {\n",
       "        vertical-align: middle;\n",
       "    }\n",
       "\n",
       "    .dataframe tbody tr th {\n",
       "        vertical-align: top;\n",
       "    }\n",
       "\n",
       "    .dataframe thead th {\n",
       "        text-align: right;\n",
       "    }\n",
       "</style>\n",
       "<table border=\"1\" class=\"dataframe\">\n",
       "  <thead>\n",
       "    <tr style=\"text-align: right;\">\n",
       "      <th></th>\n",
       "      <th>year</th>\n",
       "      <th>round</th>\n",
       "      <th>favorite</th>\n",
       "      <th>underdog</th>\n",
       "      <th>favorite_probability</th>\n",
       "      <th>favorite_win_flag</th>\n",
       "    </tr>\n",
       "  </thead>\n",
       "  <tbody>\n",
       "    <tr>\n",
       "      <th>0</th>\n",
       "      <td>2014</td>\n",
       "      <td>2</td>\n",
       "      <td>Texas</td>\n",
       "      <td>Arizona State</td>\n",
       "      <td>0.501</td>\n",
       "      <td>1</td>\n",
       "    </tr>\n",
       "    <tr>\n",
       "      <th>1</th>\n",
       "      <td>2013</td>\n",
       "      <td>2</td>\n",
       "      <td>Illinois</td>\n",
       "      <td>Colorado</td>\n",
       "      <td>0.504</td>\n",
       "      <td>1</td>\n",
       "    </tr>\n",
       "    <tr>\n",
       "      <th>2</th>\n",
       "      <td>2013</td>\n",
       "      <td>1</td>\n",
       "      <td>James Madison</td>\n",
       "      <td>Long Island</td>\n",
       "      <td>0.506</td>\n",
       "      <td>1</td>\n",
       "    </tr>\n",
       "    <tr>\n",
       "      <th>3</th>\n",
       "      <td>2011</td>\n",
       "      <td>2</td>\n",
       "      <td>Cincinnati</td>\n",
       "      <td>Missouri</td>\n",
       "      <td>0.509</td>\n",
       "      <td>1</td>\n",
       "    </tr>\n",
       "    <tr>\n",
       "      <th>4</th>\n",
       "      <td>2012</td>\n",
       "      <td>3</td>\n",
       "      <td>Cincinnati</td>\n",
       "      <td>Florida State</td>\n",
       "      <td>0.509</td>\n",
       "      <td>1</td>\n",
       "    </tr>\n",
       "    <tr>\n",
       "      <th>5</th>\n",
       "      <td>2011</td>\n",
       "      <td>5</td>\n",
       "      <td>Arizona</td>\n",
       "      <td>Connecticut</td>\n",
       "      <td>0.514</td>\n",
       "      <td>0</td>\n",
       "    </tr>\n",
       "    <tr>\n",
       "      <th>6</th>\n",
       "      <td>2013</td>\n",
       "      <td>1</td>\n",
       "      <td>La Salle</td>\n",
       "      <td>Boise State</td>\n",
       "      <td>0.515</td>\n",
       "      <td>1</td>\n",
       "    </tr>\n",
       "    <tr>\n",
       "      <th>7</th>\n",
       "      <td>2014</td>\n",
       "      <td>1</td>\n",
       "      <td>Tennessee</td>\n",
       "      <td>Iowa</td>\n",
       "      <td>0.517</td>\n",
       "      <td>1</td>\n",
       "    </tr>\n",
       "    <tr>\n",
       "      <th>8</th>\n",
       "      <td>2011</td>\n",
       "      <td>2</td>\n",
       "      <td>Xavier</td>\n",
       "      <td>Marquette</td>\n",
       "      <td>0.518</td>\n",
       "      <td>0</td>\n",
       "    </tr>\n",
       "    <tr>\n",
       "      <th>9</th>\n",
       "      <td>2013</td>\n",
       "      <td>6</td>\n",
       "      <td>Michigan</td>\n",
       "      <td>Syracuse</td>\n",
       "      <td>0.519</td>\n",
       "      <td>1</td>\n",
       "    </tr>\n",
       "  </tbody>\n",
       "</table>\n",
       "</div>"
      ],
      "text/plain": [
       "   year  round       favorite       underdog  favorite_probability  \\\n",
       "0  2014      2          Texas  Arizona State                 0.501   \n",
       "1  2013      2       Illinois       Colorado                 0.504   \n",
       "2  2013      1  James Madison    Long Island                 0.506   \n",
       "3  2011      2     Cincinnati       Missouri                 0.509   \n",
       "4  2012      3     Cincinnati  Florida State                 0.509   \n",
       "5  2011      5        Arizona    Connecticut                 0.514   \n",
       "6  2013      1       La Salle    Boise State                 0.515   \n",
       "7  2014      1      Tennessee           Iowa                 0.517   \n",
       "8  2011      2         Xavier      Marquette                 0.518   \n",
       "9  2013      6       Michigan       Syracuse                 0.519   \n",
       "\n",
       "   favorite_win_flag  \n",
       "0                  1  \n",
       "1                  1  \n",
       "2                  1  \n",
       "3                  1  \n",
       "4                  1  \n",
       "5                  0  \n",
       "6                  1  \n",
       "7                  1  \n",
       "8                  0  \n",
       "9                  1  "
      ]
     },
     "execution_count": 2,
     "metadata": {},
     "output_type": "execute_result"
    }
   ],
   "source": [
    "import pandas as pd\n",
    "#Let's read in a comma separated value (.csv) file from 538\n",
    "df=pd.read_csv(\"historical-538-ncaa-tournament-model-results.csv\")\n",
    "#Let's look at the first 10 lines\n",
    "#I'm passing the data frame and the argument 10 to the pandas.DataFrame.head function\n",
    "pd.DataFrame.head(df,10)"
   ]
  },
  {
   "cell_type": "code",
   "execution_count": 3,
   "metadata": {},
   "outputs": [
    {
     "data": {
      "text/html": [
       "<div>\n",
       "<style scoped>\n",
       "    .dataframe tbody tr th:only-of-type {\n",
       "        vertical-align: middle;\n",
       "    }\n",
       "\n",
       "    .dataframe tbody tr th {\n",
       "        vertical-align: top;\n",
       "    }\n",
       "\n",
       "    .dataframe thead th {\n",
       "        text-align: right;\n",
       "    }\n",
       "</style>\n",
       "<table border=\"1\" class=\"dataframe\">\n",
       "  <thead>\n",
       "    <tr style=\"text-align: right;\">\n",
       "      <th></th>\n",
       "      <th>year</th>\n",
       "      <th>round</th>\n",
       "      <th>favorite</th>\n",
       "      <th>underdog</th>\n",
       "      <th>favorite_probability</th>\n",
       "      <th>favorite_win_flag</th>\n",
       "    </tr>\n",
       "  </thead>\n",
       "  <tbody>\n",
       "    <tr>\n",
       "      <th>0</th>\n",
       "      <td>2014</td>\n",
       "      <td>2</td>\n",
       "      <td>Texas</td>\n",
       "      <td>Arizona State</td>\n",
       "      <td>0.501</td>\n",
       "      <td>1</td>\n",
       "    </tr>\n",
       "    <tr>\n",
       "      <th>1</th>\n",
       "      <td>2013</td>\n",
       "      <td>2</td>\n",
       "      <td>Illinois</td>\n",
       "      <td>Colorado</td>\n",
       "      <td>0.504</td>\n",
       "      <td>1</td>\n",
       "    </tr>\n",
       "    <tr>\n",
       "      <th>2</th>\n",
       "      <td>2013</td>\n",
       "      <td>1</td>\n",
       "      <td>James Madison</td>\n",
       "      <td>Long Island</td>\n",
       "      <td>0.506</td>\n",
       "      <td>1</td>\n",
       "    </tr>\n",
       "  </tbody>\n",
       "</table>\n",
       "</div>"
      ],
      "text/plain": [
       "   year  round       favorite       underdog  favorite_probability  \\\n",
       "0  2014      2          Texas  Arizona State                 0.501   \n",
       "1  2013      2       Illinois       Colorado                 0.504   \n",
       "2  2013      1  James Madison    Long Island                 0.506   \n",
       "\n",
       "   favorite_win_flag  \n",
       "0                  1  \n",
       "1                  1  \n",
       "2                  1  "
      ]
     },
     "execution_count": 3,
     "metadata": {},
     "output_type": "execute_result"
    }
   ],
   "source": [
    "#I can also call head as a method\n",
    "#Default is 5 lines\n",
    "df.head(3)"
   ]
  },
  {
   "cell_type": "code",
   "execution_count": 4,
   "metadata": {},
   "outputs": [
    {
     "name": "stdout",
     "output_type": "stream",
     "text": [
      "<class 'pandas.core.frame.DataFrame'>\n",
      "RangeIndex: 253 entries, 0 to 252\n",
      "Data columns (total 6 columns):\n",
      "year                    253 non-null int64\n",
      "round                   253 non-null int64\n",
      "favorite                253 non-null object\n",
      "underdog                253 non-null object\n",
      "favorite_probability    253 non-null float64\n",
      "favorite_win_flag       253 non-null int64\n",
      "dtypes: float64(1), int64(3), object(2)\n",
      "memory usage: 11.9+ KB\n"
     ]
    }
   ],
   "source": [
    "#Let's get some information about the data frame\n",
    "pd.DataFrame.info(df)"
   ]
  },
  {
   "cell_type": "code",
   "execution_count": 5,
   "metadata": {},
   "outputs": [
    {
     "data": {
      "text/plain": [
       "0      2014\n",
       "1      2013\n",
       "2      2013\n",
       "3      2011\n",
       "4      2012\n",
       "5      2011\n",
       "6      2013\n",
       "7      2014\n",
       "8      2011\n",
       "9      2013\n",
       "10     2014\n",
       "11     2012\n",
       "12     2014\n",
       "13     2012\n",
       "14     2012\n",
       "15     2011\n",
       "16     2012\n",
       "17     2011\n",
       "18     2012\n",
       "19     2013\n",
       "20     2012\n",
       "21     2011\n",
       "22     2013\n",
       "23     2011\n",
       "24     2012\n",
       "25     2012\n",
       "26     2011\n",
       "27     2013\n",
       "28     2014\n",
       "29     2013\n",
       "       ... \n",
       "223    2014\n",
       "224    2014\n",
       "225    2011\n",
       "226    2011\n",
       "227    2012\n",
       "228    2013\n",
       "229    2013\n",
       "230    2013\n",
       "231    2012\n",
       "232    2014\n",
       "233    2013\n",
       "234    2013\n",
       "235    2012\n",
       "236    2011\n",
       "237    2014\n",
       "238    2014\n",
       "239    2012\n",
       "240    2011\n",
       "241    2012\n",
       "242    2014\n",
       "243    2014\n",
       "244    2013\n",
       "245    2013\n",
       "246    2013\n",
       "247    2014\n",
       "248    2011\n",
       "249    2012\n",
       "250    2013\n",
       "251    2011\n",
       "252    2011\n",
       "Name: year, Length: 253, dtype: int64"
      ]
     },
     "execution_count": 5,
     "metadata": {},
     "output_type": "execute_result"
    }
   ],
   "source": [
    "#We can look at a specific column\n",
    "#Note the method is loc, we are using [] instead of () \n",
    "#And we always have to think about [row,column]\n",
    "df.loc[:,'year']"
   ]
  },
  {
   "cell_type": "code",
   "execution_count": 6,
   "metadata": {},
   "outputs": [
    {
     "data": {
      "text/html": [
       "<div>\n",
       "<style scoped>\n",
       "    .dataframe tbody tr th:only-of-type {\n",
       "        vertical-align: middle;\n",
       "    }\n",
       "\n",
       "    .dataframe tbody tr th {\n",
       "        vertical-align: top;\n",
       "    }\n",
       "\n",
       "    .dataframe thead th {\n",
       "        text-align: right;\n",
       "    }\n",
       "</style>\n",
       "<table border=\"1\" class=\"dataframe\">\n",
       "  <thead>\n",
       "    <tr style=\"text-align: right;\">\n",
       "      <th></th>\n",
       "      <th>year</th>\n",
       "      <th>round</th>\n",
       "      <th>favorite</th>\n",
       "      <th>underdog</th>\n",
       "      <th>favorite_probability</th>\n",
       "      <th>favorite_win_flag</th>\n",
       "    </tr>\n",
       "  </thead>\n",
       "  <tbody>\n",
       "    <tr>\n",
       "      <th>0</th>\n",
       "      <td>2014</td>\n",
       "      <td>2</td>\n",
       "      <td>Texas</td>\n",
       "      <td>Arizona State</td>\n",
       "      <td>0.501</td>\n",
       "      <td>1</td>\n",
       "    </tr>\n",
       "    <tr>\n",
       "      <th>1</th>\n",
       "      <td>2013</td>\n",
       "      <td>2</td>\n",
       "      <td>Illinois</td>\n",
       "      <td>Colorado</td>\n",
       "      <td>0.504</td>\n",
       "      <td>1</td>\n",
       "    </tr>\n",
       "    <tr>\n",
       "      <th>2</th>\n",
       "      <td>2013</td>\n",
       "      <td>1</td>\n",
       "      <td>James Madison</td>\n",
       "      <td>Long Island</td>\n",
       "      <td>0.506</td>\n",
       "      <td>1</td>\n",
       "    </tr>\n",
       "    <tr>\n",
       "      <th>3</th>\n",
       "      <td>2011</td>\n",
       "      <td>2</td>\n",
       "      <td>Cincinnati</td>\n",
       "      <td>Missouri</td>\n",
       "      <td>0.509</td>\n",
       "      <td>1</td>\n",
       "    </tr>\n",
       "  </tbody>\n",
       "</table>\n",
       "</div>"
      ],
      "text/plain": [
       "   year  round       favorite       underdog  favorite_probability  \\\n",
       "0  2014      2          Texas  Arizona State                 0.501   \n",
       "1  2013      2       Illinois       Colorado                 0.504   \n",
       "2  2013      1  James Madison    Long Island                 0.506   \n",
       "3  2011      2     Cincinnati       Missouri                 0.509   \n",
       "\n",
       "   favorite_win_flag  \n",
       "0                  1  \n",
       "1                  1  \n",
       "2                  1  \n",
       "3                  1  "
      ]
     },
     "execution_count": 6,
     "metadata": {},
     "output_type": "execute_result"
    }
   ],
   "source": [
    "#We can pull a specific row or series of rows\n",
    "df.loc[0:3]"
   ]
  },
  {
   "cell_type": "code",
   "execution_count": 7,
   "metadata": {},
   "outputs": [
    {
     "name": "stdout",
     "output_type": "stream",
     "text": [
      "0    2014\n",
      "1    2013\n",
      "2    2013\n",
      "3    2011\n",
      "Name: year, dtype: int64\n"
     ]
    }
   ],
   "source": [
    "#And we can do this for a specific column\n",
    "print(df.loc[0:3,\"year\"])"
   ]
  },
  {
   "cell_type": "code",
   "execution_count": 8,
   "metadata": {},
   "outputs": [],
   "source": [
    "#Experiment with how df.iloc works. What is different?"
   ]
  },
  {
   "cell_type": "code",
   "execution_count": 9,
   "metadata": {},
   "outputs": [
    {
     "data": {
      "text/plain": [
       "0       True\n",
       "1       True\n",
       "2       True\n",
       "3       True\n",
       "4       True\n",
       "5      False\n",
       "6       True\n",
       "7       True\n",
       "8      False\n",
       "9       True\n",
       "10     False\n",
       "11      True\n",
       "12      True\n",
       "13     False\n",
       "14      True\n",
       "15     False\n",
       "16     False\n",
       "17     False\n",
       "18     False\n",
       "19      True\n",
       "20     False\n",
       "21      True\n",
       "22      True\n",
       "23      True\n",
       "24     False\n",
       "25      True\n",
       "26     False\n",
       "27      True\n",
       "28     False\n",
       "29     False\n",
       "       ...  \n",
       "223    False\n",
       "224     True\n",
       "225     True\n",
       "226     True\n",
       "227     True\n",
       "228     True\n",
       "229     True\n",
       "230     True\n",
       "231     True\n",
       "232     True\n",
       "233     True\n",
       "234     True\n",
       "235     True\n",
       "236     True\n",
       "237     True\n",
       "238     True\n",
       "239     True\n",
       "240     True\n",
       "241    False\n",
       "242     True\n",
       "243     True\n",
       "244     True\n",
       "245     True\n",
       "246     True\n",
       "247     True\n",
       "248     True\n",
       "249     True\n",
       "250     True\n",
       "251     True\n",
       "252     True\n",
       "Name: favorite_win_flag, Length: 253, dtype: bool"
      ]
     },
     "execution_count": 9,
     "metadata": {},
     "output_type": "execute_result"
    }
   ],
   "source": [
    "#We can also perform conditional subsetting of a data frame \n",
    "#Let's subset based on favorite_win_flag value of 1\n",
    "#df['favorite_win_flag']==1\n",
    "df.loc[:,'favorite_win_flag']==1\n",
    "#This give us a pandas series of booleans"
   ]
  },
  {
   "cell_type": "code",
   "execution_count": 10,
   "metadata": {},
   "outputs": [
    {
     "data": {
      "text/plain": [
       "0       True\n",
       "1       True\n",
       "2       True\n",
       "3       True\n",
       "4       True\n",
       "5      False\n",
       "6       True\n",
       "7       True\n",
       "8      False\n",
       "9       True\n",
       "10     False\n",
       "11      True\n",
       "12      True\n",
       "13     False\n",
       "14      True\n",
       "15     False\n",
       "16     False\n",
       "17     False\n",
       "18     False\n",
       "19      True\n",
       "20     False\n",
       "21      True\n",
       "22      True\n",
       "23      True\n",
       "24     False\n",
       "25      True\n",
       "26     False\n",
       "27      True\n",
       "28     False\n",
       "29     False\n",
       "       ...  \n",
       "223    False\n",
       "224     True\n",
       "225     True\n",
       "226     True\n",
       "227     True\n",
       "228     True\n",
       "229     True\n",
       "230     True\n",
       "231     True\n",
       "232     True\n",
       "233     True\n",
       "234     True\n",
       "235     True\n",
       "236     True\n",
       "237     True\n",
       "238     True\n",
       "239     True\n",
       "240     True\n",
       "241    False\n",
       "242     True\n",
       "243     True\n",
       "244     True\n",
       "245     True\n",
       "246     True\n",
       "247     True\n",
       "248     True\n",
       "249     True\n",
       "250     True\n",
       "251     True\n",
       "252     True\n",
       "Name: favorite_win_flag, Length: 253, dtype: bool"
      ]
     },
     "execution_count": 10,
     "metadata": {},
     "output_type": "execute_result"
    }
   ],
   "source": [
    "#We can achieve the same thing without loc \n",
    "df['favorite_win_flag']==1"
   ]
  },
  {
   "cell_type": "code",
   "execution_count": 11,
   "metadata": {},
   "outputs": [
    {
     "data": {
      "text/html": [
       "<div>\n",
       "<style scoped>\n",
       "    .dataframe tbody tr th:only-of-type {\n",
       "        vertical-align: middle;\n",
       "    }\n",
       "\n",
       "    .dataframe tbody tr th {\n",
       "        vertical-align: top;\n",
       "    }\n",
       "\n",
       "    .dataframe thead th {\n",
       "        text-align: right;\n",
       "    }\n",
       "</style>\n",
       "<table border=\"1\" class=\"dataframe\">\n",
       "  <thead>\n",
       "    <tr style=\"text-align: right;\">\n",
       "      <th></th>\n",
       "      <th>year</th>\n",
       "      <th>round</th>\n",
       "      <th>favorite</th>\n",
       "      <th>underdog</th>\n",
       "      <th>favorite_probability</th>\n",
       "      <th>favorite_win_flag</th>\n",
       "    </tr>\n",
       "  </thead>\n",
       "  <tbody>\n",
       "    <tr>\n",
       "      <th>0</th>\n",
       "      <td>2014</td>\n",
       "      <td>2</td>\n",
       "      <td>Texas</td>\n",
       "      <td>Arizona State</td>\n",
       "      <td>0.501</td>\n",
       "      <td>1</td>\n",
       "    </tr>\n",
       "    <tr>\n",
       "      <th>1</th>\n",
       "      <td>2013</td>\n",
       "      <td>2</td>\n",
       "      <td>Illinois</td>\n",
       "      <td>Colorado</td>\n",
       "      <td>0.504</td>\n",
       "      <td>1</td>\n",
       "    </tr>\n",
       "    <tr>\n",
       "      <th>2</th>\n",
       "      <td>2013</td>\n",
       "      <td>1</td>\n",
       "      <td>James Madison</td>\n",
       "      <td>Long Island</td>\n",
       "      <td>0.506</td>\n",
       "      <td>1</td>\n",
       "    </tr>\n",
       "    <tr>\n",
       "      <th>3</th>\n",
       "      <td>2011</td>\n",
       "      <td>2</td>\n",
       "      <td>Cincinnati</td>\n",
       "      <td>Missouri</td>\n",
       "      <td>0.509</td>\n",
       "      <td>1</td>\n",
       "    </tr>\n",
       "    <tr>\n",
       "      <th>4</th>\n",
       "      <td>2012</td>\n",
       "      <td>3</td>\n",
       "      <td>Cincinnati</td>\n",
       "      <td>Florida State</td>\n",
       "      <td>0.509</td>\n",
       "      <td>1</td>\n",
       "    </tr>\n",
       "  </tbody>\n",
       "</table>\n",
       "</div>"
      ],
      "text/plain": [
       "   year  round       favorite       underdog  favorite_probability  \\\n",
       "0  2014      2          Texas  Arizona State                 0.501   \n",
       "1  2013      2       Illinois       Colorado                 0.504   \n",
       "2  2013      1  James Madison    Long Island                 0.506   \n",
       "3  2011      2     Cincinnati       Missouri                 0.509   \n",
       "4  2012      3     Cincinnati  Florida State                 0.509   \n",
       "\n",
       "   favorite_win_flag  \n",
       "0                  1  \n",
       "1                  1  \n",
       "2                  1  \n",
       "3                  1  \n",
       "4                  1  "
      ]
     },
     "execution_count": 11,
     "metadata": {},
     "output_type": "execute_result"
    }
   ],
   "source": [
    "#We can use the booleans to show only the lines that are True\n",
    "subset=df[df['favorite_win_flag']==1]\n",
    "subset.head()"
   ]
  },
  {
   "cell_type": "code",
   "execution_count": 12,
   "metadata": {},
   "outputs": [
    {
     "name": "stdout",
     "output_type": "stream",
     "text": [
      "The total dataset has shape: (253, 6)\n",
      "The conditionally subsetted dataset has shape: (177, 6)\n"
     ]
    }
   ],
   "source": [
    "#Let's look at the dimensions\n",
    "print(\"The total dataset has shape:\",df.shape)\n",
    "print(\"The conditionally subsetted dataset has shape:\",subset.shape)"
   ]
  },
  {
   "cell_type": "code",
   "execution_count": 20,
   "metadata": {},
   "outputs": [
    {
     "data": {
      "image/png": "[encoded data removed]",
      "text/plain": [
       "<Figure size 432x288 with 1 Axes>"
      ]
     },
     "metadata": {
      "needs_background": "light"
     },
     "output_type": "display_data"
    }
   ],
   "source": [
    "#To make plots we need to use the matplotlib package\n",
    "import  matplotlib.pyplot as  plt\n",
    "\n",
    "#Let's compare the distribution of win probabilities for the favorite teams based on if the favorite won or not\n",
    "\n",
    "plt.figure()\n",
    "plt.boxplot(df.loc[:,'favorite_probability'])\n",
    "plt.show()"
   ]
  },
  {
   "cell_type": "code",
   "execution_count": null,
   "metadata": {},
   "outputs": [],
   "source": []
  },
  {
   "cell_type": "code",
   "execution_count": null,
   "metadata": {},
   "outputs": [],
   "source": []
  }
 ],
 "metadata": {
  "kernelspec": {
   "display_name": "Python 3",
   "language": "python",
   "name": "python3"
  },
  "language_info": {
   "codemirror_mode": {
    "name": "ipython",
    "version": 3
   },
   "file_extension": ".py",
   "mimetype": "text/x-python",
   "name": "python",
   "nbconvert_exporter": "python",
   "pygments_lexer": "ipython3",
   "version": "3.7.0"
  }
 },
 "nbformat": 4,
 "nbformat_minor": 2
}
