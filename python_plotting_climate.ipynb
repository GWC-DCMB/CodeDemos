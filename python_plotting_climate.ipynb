{
 "cells": [
  {
   "cell_type": "markdown",
   "metadata": {},
   "source": [
    "# Graduate Society of Black Engineers and Scientists\n",
    "### March 20, 2019\n",
    "### Programming Workshop by Girls Who Code at UM DCMB\n",
    "#### Adapted from Software Carpentry Curriculum http://swcarpentry.github.io/python-novice-gapminder/"
   ]
  },
  {
   "cell_type": "markdown",
   "metadata": {},
   "source": [
    "### Intro to Python and Jupyter Notebook\n",
    "Python is  an object oriented programming language which just means we care a lot about the objects that we want to manipulate. There are several data types that an object can have. The basic data types  are integer, float, string, boolean. We assign values to the variable names in a left to right fashion. Jupyter notebook is letting us run and edit Python code. Learn more about Jupyter Notebook [here](https://jupyter-notebook.readthedocs.io/en/stable/examples/Notebook/Notebook%20Basics.html)"
   ]
  },
  {
   "cell_type": "code",
   "execution_count": null,
   "metadata": {},
   "outputs": [],
   "source": [
    "#Data Types\n",
    "w=1 #integer\n",
    "x=1.0 #float\n",
    "y=\"hello world\" #string\n",
    "z=True #boolean"
   ]
  },
  {
   "cell_type": "code",
   "execution_count": null,
   "metadata": {
    "scrolled": false
   },
   "outputs": [],
   "source": [
    "#The print function will print its argument to the screen\n",
    "#Python has lots of built in functions like print\n",
    "#You can also define your own functions when you learn more\n",
    "#Think of functions like f(x) in math class\n",
    "print(w+z)"
   ]
  },
  {
   "cell_type": "code",
   "execution_count": null,
   "metadata": {},
   "outputs": [],
   "source": [
    "#Running the notebook cell gives the evaluation of the last command\n",
    "w+z"
   ]
  },
  {
   "cell_type": "code",
   "execution_count": null,
   "metadata": {},
   "outputs": [],
   "source": [
    "#If we define a variable as the last command, we do not see the output. \n",
    "#But the variable test now has a value which we can access later.\n",
    "test=w+z"
   ]
  },
  {
   "cell_type": "code",
   "execution_count": null,
   "metadata": {},
   "outputs": [],
   "source": [
    "print(test)"
   ]
  },
  {
   "cell_type": "code",
   "execution_count": null,
   "metadata": {},
   "outputs": [],
   "source": [
    "#What happens if we add x and y?\n",
    "#How can we determine the data type of z?"
   ]
  },
  {
   "cell_type": "markdown",
   "metadata": {},
   "source": [
    "Data can be stored in containers. Common containers in  Python  are lists, numpy arrays, pandas data frames, dictionaries, and tuples."
   ]
  },
  {
   "cell_type": "code",
   "execution_count": null,
   "metadata": {},
   "outputs": [],
   "source": [
    "#Each container has specific manipulations  we can perform\n",
    "my_list=[1,2,3]\n",
    "#We can use the list method of append to add a value to the end\n",
    "my_list.append(4)\n",
    "print(my_list)\n",
    "#We can slice a list to pull a value out\n",
    "my_list[0]\n",
    "#Python is 0-based so the 1st position is accessed  with 1"
   ]
  },
  {
   "cell_type": "code",
   "execution_count": null,
   "metadata": {},
   "outputs": [],
   "source": [
    "#Dictionaries help us keep track of key and value pairs\n",
    "my_dict={\"Brooke\":\"Bioinformatics\", \"Sierra\":\"MIP\", \"Allie\":\"Pharmacology\"}\n",
    "#We can pull out a value if we know the key\n",
    "print(my_dict[\"Brooke\"])\n",
    "#We can also look up all the keys with a method\n",
    "my_dict.keys()"
   ]
  },
  {
   "cell_type": "code",
   "execution_count": null,
   "metadata": {},
   "outputs": [],
   "source": [
    "#To use numpy arrays and pandas data frames we need to import packages\n",
    "#Packages are tidy ways of organizing special functionalities\n",
    "import numpy as  np\n",
    "my_arr=np.array=[1,2,3]\n",
    "print(my_arr)"
   ]
  },
  {
   "cell_type": "markdown",
   "metadata": {},
   "source": [
    "### Mount Google Drive\n",
    "If you're using this .ipynb in a Google Drive with .csv files needed for the rest of the exercise, we need to mount the drive and set the file path."
   ]
  },
  {
   "cell_type": "code",
   "execution_count": null,
   "metadata": {},
   "outputs": [],
   "source": [
    "from google.colab import drive\n",
    "drive.mount('/content/gdrive')"
   ]
  },
  {
   "cell_type": "code",
   "execution_count": null,
   "metadata": {},
   "outputs": [],
   "source": [
    "# set the file path \n",
    "# after \"My Drive\", change the path for the path to this folder in your own Google Drive\n",
    "# i.e. 'codeDemos-master' is specific to my GDrive -- yours may be different\n",
    "gdrive_path = '/content/gdrive/My Drive/codeDemos-master/' # don't leave out the trailing slash /"
   ]
  },
  {
   "cell_type": "markdown",
   "metadata": {},
   "source": [
    "### Manipulating data frames with pandas\n",
    "Pandas lets us easily use dataframes which may come from comma seperated value (.csv) files. Documentation can be found [here](http://pandas.pydata.org/pandas-docs/stable/). We will be using a .csv file from [datahub.io](https://datahub.io/collections/climate-change) with the monthly global mean temperature in Celsius from 1880 to 2016."
   ]
  },
  {
   "cell_type": "code",
   "execution_count": null,
   "metadata": {},
   "outputs": [],
   "source": [
    "import pandas as pd\n",
    "#Let's read in a comma separated value (.csv) file\n",
    "#The filename as a string is passed as an argument to the function read_csv which is from the package pandas\n",
    "df=pd.read_csv(f\"{gdrive_path}monthly_global_temps.csv\")\n",
    "#Let's look at the first 10 lines\n",
    "#I'm passing the data frame and the argument 10 to the pandas.DataFrame.head function\n",
    "pd.DataFrame.head(df,10)\n",
    "#How do you think we can see the last 5 rows of the data frame?"
   ]
  },
  {
   "cell_type": "code",
   "execution_count": null,
   "metadata": {},
   "outputs": [],
   "source": [
    "#I can also call head as a method and specify the number of lines shown\n",
    "#Default is 5 lines\n",
    "df.head(3)"
   ]
  },
  {
   "cell_type": "code",
   "execution_count": null,
   "metadata": {},
   "outputs": [],
   "source": [
    "#Let's get some information about the data frame. How many rows are there total?\n",
    "pd.DataFrame.info(df)"
   ]
  },
  {
   "cell_type": "code",
   "execution_count": null,
   "metadata": {
    "scrolled": true
   },
   "outputs": [],
   "source": [
    "#Pandas has a special data type for Dates (datetime64)\n",
    "#It will help us later if we represent the Date column in this format, so convert it using the functon to_datetime\n",
    "df['Date']=pd.to_datetime(df['Date'])\n",
    "pd.DataFrame.info(df)"
   ]
  },
  {
   "cell_type": "code",
   "execution_count": null,
   "metadata": {},
   "outputs": [],
   "source": [
    "#We can look at a specific column\n",
    "#Note the method is loc, we are using [] instead of () \n",
    "#And we always have to think about [row,column]\n",
    "df.loc[:,'Mean']"
   ]
  },
  {
   "cell_type": "code",
   "execution_count": null,
   "metadata": {},
   "outputs": [],
   "source": [
    "#We can pull a specific row or series of rows using the function loc\n",
    "df.loc[0:3]"
   ]
  },
  {
   "cell_type": "code",
   "execution_count": null,
   "metadata": {},
   "outputs": [],
   "source": [
    "#And we can do this for a specific column. What data type is the Mean column?\n",
    "print(df.loc[0:3,\"Mean\"])"
   ]
  },
  {
   "cell_type": "code",
   "execution_count": null,
   "metadata": {},
   "outputs": [],
   "source": [
    "#Experiment with how df.iloc works. What is different?"
   ]
  },
  {
   "cell_type": "code",
   "execution_count": null,
   "metadata": {},
   "outputs": [],
   "source": [
    "#We can also perform conditional subsetting of a data frame \n",
    "#Let's subset based on source \n",
    "#Data from GISS Surface Temperature (GISTEMP) analysis & the global component of Climate at a Glance (GCAG)\n",
    "df.loc[:,'Source']==\"GCAG\"\n",
    "#This give us a pandas series of booleans"
   ]
  },
  {
   "cell_type": "code",
   "execution_count": null,
   "metadata": {},
   "outputs": [],
   "source": [
    "#We can achieve the same thing without loc \n",
    "df['Source']==\"GCAG\""
   ]
  },
  {
   "cell_type": "code",
   "execution_count": null,
   "metadata": {},
   "outputs": [],
   "source": [
    "#We can use the booleans to subset the dataframe to only the lines that are True\n",
    "subset=df[df['Source']==\"GCAG\"]\n",
    "#Let's look at the first 5 rows of the new data frame variable called subset\n",
    "subset.head()"
   ]
  },
  {
   "cell_type": "code",
   "execution_count": null,
   "metadata": {},
   "outputs": [],
   "source": [
    "#Let's look at the dimensions\n",
    "print(\"The total dataset has shape:\",df.shape)\n",
    "print(\"The conditionally subsetted dataset has shape:\",subset.shape)"
   ]
  },
  {
   "cell_type": "markdown",
   "metadata": {},
   "source": [
    "### Plotting with matplotlib\n",
    "Matplotlib is a 2D plotting library which allows you to visualize your data in many customizable ways! We are going to focus on one function of the library, pyplot which has documentation [here](https://matplotlib.org/api/_as_gen/matplotlib.pyplot.html?highlight=pyplot#module-matplotlib.pyplot). A really awesome tutorial on plotting is available through [Software Carpentry](https://swcarpentry.github.io/python-novice-gapminder/09-plotting/)."
   ]
  },
  {
   "cell_type": "code",
   "execution_count": null,
   "metadata": {},
   "outputs": [],
   "source": [
    "#To make plots we need to use the matplotlib package and we are going to learn the sub-library pyplot\n",
    "import  matplotlib.pyplot as  plt\n",
    "\n",
    "#Let's visualize the mean temperature over time\n",
    "#plt.plot takes 3 arguments, series for x axis, series for y axis, point spefification\n",
    "#We are also saving this to a file called test.png\n",
    "plt.figure(figsize=(6,4))\n",
    "plt.plot(subset.loc[:,'Date'],subset.loc[:,'Mean'],'b')\n",
    "plt.xlabel('Date')\n",
    "plt.ylabel('Mean Temperature (Celsius)')\n",
    "plt.savefig(\"test.png\")\n",
    "plt.show()"
   ]
  },
  {
   "cell_type": "code",
   "execution_count": null,
   "metadata": {},
   "outputs": [],
   "source": [
    "#Try to change the x-axis labels to 45 degree angles using plt.xticks()\n",
    "#Customize the plot any other way you would like"
   ]
  },
  {
   "cell_type": "code",
   "execution_count": null,
   "metadata": {},
   "outputs": [],
   "source": [
    "#Alternatively we can use the plot method on Series and DataFrame which is just a simple wrapper around plt.plot\n",
    "subset.plot(x='Date',y='Mean')"
   ]
  },
  {
   "cell_type": "code",
   "execution_count": null,
   "metadata": {},
   "outputs": [],
   "source": [
    "#The data has temperature measures from 2 sources\n",
    "#GISTEMP Global Land-Ocean Temperature Index from NASA\n",
    "#Global component of Climate at a Glance (GCAG) from NOAA\n",
    "#Let's look at the temperature distribution \n",
    "\n",
    "#Boxplots can be created for every column in the dataframe by df.boxplot() or indicating the columns to be used\n",
    "df.boxplot(column=['Mean'],by='Source')\n",
    "\n",
    "#We see something similar with we calculate quantiles for numeric values in the data frame using the quantile function\n",
    "df.quantile([0.25,0.5,0.7])\n"
   ]
  },
  {
   "cell_type": "markdown",
   "metadata": {},
   "source": [
    "### Extension\n",
    "Read in a .csv file from [datahub.io](https://datahub.io/collections/climate-change) with the monthly global Carbon Dioxide measurements over time and perform some plotting!"
   ]
  },
  {
   "cell_type": "code",
   "execution_count": null,
   "metadata": {},
   "outputs": [],
   "source": [
    "#Read in and play with a second data frame\n",
    "df2=pd.read_csv(f\"{gdrive_path}co2-mm-mlo.csv\")\n",
    "pd.DataFrame.head(df2)"
   ]
  }
 ],
 "metadata": {
  "kernelspec": {
   "display_name": "Python 3",
   "language": "python",
   "name": "python3"
  },
  "language_info": {
   "codemirror_mode": {
    "name": "ipython",
    "version": 3
   },
   "file_extension": ".py",
   "mimetype": "text/x-python",
   "name": "python",
   "nbconvert_exporter": "python",
   "pygments_lexer": "ipython3",
   "version": "3.6.8"
  }
 },
 "nbformat": 4,
 "nbformat_minor": 2
}
